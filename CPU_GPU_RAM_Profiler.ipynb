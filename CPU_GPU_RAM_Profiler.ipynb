{
  "nbformat": 4,
  "nbformat_minor": 0,
  "metadata": {
    "colab": {
      "provenance": [],
      "gpuType": "T4",
      "authorship_tag": "ABX9TyOC5gsa5qFX7KdpfbDkhdJp",
      "include_colab_link": true
    },
    "kernelspec": {
      "name": "python3",
      "display_name": "Python 3"
    },
    "language_info": {
      "name": "python"
    },
    "accelerator": "GPU",
    "gpuClass": "standard"
  },
  "cells": [
    {
      "cell_type": "markdown",
      "metadata": {
        "id": "view-in-github",
        "colab_type": "text"
      },
      "source": [
        "<a href=\"https://colab.research.google.com/github/xavierjacomep/System_Resource_Profiler/blob/main/CPU_GPU_RAM_Profiler.ipynb\" target=\"_parent\"><img src=\"https://colab.research.google.com/assets/colab-badge.svg\" alt=\"Open In Colab\"/></a>"
      ]
    },
    {
      "cell_type": "markdown",
      "source": [
        "## Información de recursos de CPU y GPU"
      ],
      "metadata": {
        "id": "LTWWYVz5Wwjl"
      }
    },
    {
      "cell_type": "markdown",
      "source": [
        "Desarrollado por: [Xavier Jacome Piñeiros](https://www.linkedin.com/in/xavierjacomep/)"
      ],
      "metadata": {
        "id": "sdPYLJjIXfzU"
      }
    },
    {
      "cell_type": "markdown",
      "source": [
        "Este script Python tiene el propósito de ofrecer un desglose rápido y completo de las características y recursos disponibles de la CPU y GPU en tu máquina."
      ],
      "metadata": {
        "id": "v_iydLEgWoo8"
      }
    },
    {
      "cell_type": "markdown",
      "source": [
        "Para ejecutar este script, necesitarás tener instaladas las siguientes bibliotecas de Python:\n",
        "\n",
        "1. psutil\n",
        "2. GPUtil\n",
        "3. cpuinfo\n",
        "\n",
        "\n",
        "\n"
      ],
      "metadata": {
        "id": "uqe4GxIxW4Mn"
      }
    },
    {
      "cell_type": "markdown",
      "source": [
        "Para este caso, al usar un ambiente de Google Colab, se instaló GPUtil que no se encontraba previamente instalada en el ambiente. El entorno para esta prueba utiliza acelerador de harward GPU, tipo: T4."
      ],
      "metadata": {
        "id": "Qlpvd9jfXJlF"
      }
    },
    {
      "cell_type": "code",
      "source": [
        "pip install GPUtil"
      ],
      "metadata": {
        "colab": {
          "base_uri": "https://localhost:8080/"
        },
        "id": "42nO7Wb2volk",
        "outputId": "f5378670-e3b1-40c1-bf76-ef6ad7ab1e06"
      },
      "execution_count": 1,
      "outputs": [
        {
          "output_type": "stream",
          "name": "stdout",
          "text": [
            "Looking in indexes: https://pypi.org/simple, https://us-python.pkg.dev/colab-wheels/public/simple/\n",
            "Collecting GPUtil\n",
            "  Downloading GPUtil-1.4.0.tar.gz (5.5 kB)\n",
            "  Preparing metadata (setup.py) ... \u001b[?25l\u001b[?25hdone\n",
            "Building wheels for collected packages: GPUtil\n",
            "  Building wheel for GPUtil (setup.py) ... \u001b[?25l\u001b[?25hdone\n",
            "  Created wheel for GPUtil: filename=GPUtil-1.4.0-py3-none-any.whl size=7393 sha256=d3c5ce0b58933b3c239116ec8d06d5a4eae17a003965fddfd1452f708d097b62\n",
            "  Stored in directory: /root/.cache/pip/wheels/a9/8a/bd/81082387151853ab8b6b3ef33426e98f5cbfebc3c397a9d4d0\n",
            "Successfully built GPUtil\n",
            "Installing collected packages: GPUtil\n",
            "Successfully installed GPUtil-1.4.0\n"
          ]
        }
      ]
    },
    {
      "cell_type": "code",
      "execution_count": 2,
      "metadata": {
        "id": "ZDNDdj5vvdOp"
      },
      "outputs": [],
      "source": [
        "import psutil\n",
        "import GPUtil\n",
        "import cpuinfo"
      ]
    },
    {
      "cell_type": "code",
      "source": [
        "# 1. Cantidad de CPUs totales y disponibles\n",
        "total_cpus = psutil.cpu_count(logical=True) # Total de hilos lógicos\n",
        "physical_cpus = psutil.cpu_count(logical=False) # Núcleos físicos\n",
        "available_cpus = len(psutil.Process().cpu_affinity())\n",
        "print(f\"Total de hilos lógicos: {total_cpus}\")\n",
        "print(f\"Total de núcleos físicos: {physical_cpus}\")\n",
        "print(f\"CPUs disponibles: {available_cpus}\")"
      ],
      "metadata": {
        "colab": {
          "base_uri": "https://localhost:8080/"
        },
        "id": "gga4CdScvf_9",
        "outputId": "3804ea11-1646-4437-ed15-2aab0488f91b"
      },
      "execution_count": 3,
      "outputs": [
        {
          "output_type": "stream",
          "name": "stdout",
          "text": [
            "Total de hilos lógicos: 2\n",
            "Total de núcleos físicos: 1\n",
            "CPUs disponibles: 2\n"
          ]
        }
      ]
    },
    {
      "cell_type": "code",
      "source": [
        "# Características de la CPU\n",
        "cpu_info = cpuinfo.get_cpu_info()\n",
        "print(f\"Nombre de la CPU: {cpu_info['brand_raw']}\")\n",
        "print(f\"Arquitectura de la CPU: {cpu_info['arch']}\")\n",
        "print(f\"Bits de la CPU: {cpu_info['bits']}\")\n",
        "print(f\"Núcleos físicos de la CPU: {cpu_info['count']}\")"
      ],
      "metadata": {
        "colab": {
          "base_uri": "https://localhost:8080/"
        },
        "id": "n9L8-aUavh0s",
        "outputId": "9e2633c0-952d-40ff-defd-65df65875820"
      },
      "execution_count": 4,
      "outputs": [
        {
          "output_type": "stream",
          "name": "stdout",
          "text": [
            "Nombre de la CPU: Intel(R) Xeon(R) CPU @ 2.20GHz\n",
            "Arquitectura de la CPU: X86_64\n",
            "Bits de la CPU: 64\n",
            "Núcleos físicos de la CPU: 2\n"
          ]
        }
      ]
    },
    {
      "cell_type": "code",
      "source": [
        "# 2. Cantidad total de gigas del equipo y cantidad de gigas de RAM disponibles\n",
        "total_ram = psutil.virtual_memory().total / (1024**3)\n",
        "available_ram = psutil.virtual_memory().available / (1024**3)\n",
        "print(f\"Total de RAM: {total_ram} GB\")\n",
        "print(f\"RAM disponibles: {available_ram} GB\")"
      ],
      "metadata": {
        "colab": {
          "base_uri": "https://localhost:8080/"
        },
        "id": "ICIK9g6avjzs",
        "outputId": "e0efde5e-e245-46d5-bc76-62413e5155ed"
      },
      "execution_count": 5,
      "outputs": [
        {
          "output_type": "stream",
          "name": "stdout",
          "text": [
            "Total de RAM: 12.678390502929688 GB\n",
            "RAM disponibles: 11.709419250488281 GB\n"
          ]
        }
      ]
    },
    {
      "cell_type": "code",
      "source": [
        "# 3. Características de la GPU disponible\n",
        "gpus = GPUtil.getGPUs()\n",
        "for gpu in gpus:\n",
        "    print(f\"ID: {gpu.id}, Nombre: {gpu.name}, Carga: {gpu.load*100}%, RAM Total: {gpu.memoryTotal/1024} GB, RAM Usada: {gpu.memoryUsed/1024} GB, RAM Libre: {(gpu.memoryTotal - gpu.memoryUsed)/1024} GB\")\n"
      ],
      "metadata": {
        "colab": {
          "base_uri": "https://localhost:8080/"
        },
        "id": "E3HMiocMvm2z",
        "outputId": "d1d8360c-82bc-4f29-c4a0-58edabe7fc12"
      },
      "execution_count": 6,
      "outputs": [
        {
          "output_type": "stream",
          "name": "stdout",
          "text": [
            "ID: 0, Nombre: Tesla T4, Carga: 0.0%, RAM Total: 15.0 GB, RAM Usada: 0.0 GB, RAM Libre: 15.0 GB\n"
          ]
        }
      ]
    }
  ]
}